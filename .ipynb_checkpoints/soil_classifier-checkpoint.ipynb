{
 "cells": [
  {
   "cell_type": "markdown",
   "id": "6abbf985-4e97-4455-91eb-d733d483b5b1",
   "metadata": {},
   "source": [
    "**Impor Pustaka yang Diperlukan**"
   ]
  },
  {
   "cell_type": "code",
   "execution_count": 1,
   "id": "06f9dc7b-af9d-4a0f-8146-ea6a061adaf2",
   "metadata": {},
   "outputs": [],
   "source": [
    "import matplotlib.pyplot as plt\n",
    "import numpy as np\n",
    "import PIL\n",
    "import tensorflow as tf\n",
    "import pathlib\n",
    "\n",
    "from tensorflow import keras\n",
    "from tensorflow.keras import layers\n",
    "from tensorflow.keras.models import Sequential"
   ]
  },
  {
   "cell_type": "markdown",
   "id": "eea90505-877a-408a-b7cb-53e7a6bb5910",
   "metadata": {},
   "source": [
    "**Menyiapkan Data dan Melakukan Augmentasi**"
   ]
  },
  {
   "cell_type": "code",
   "execution_count": 2,
   "id": "b3f91640-09a4-4817-9916-5b0859fbdd8d",
   "metadata": {},
   "outputs": [
    {
     "ename": "NameError",
     "evalue": "name 'pathlib' is not defined",
     "output_type": "error",
     "traceback": [
      "\u001b[1;31m---------------------------------------------------------------------------\u001b[0m",
      "\u001b[1;31mNameError\u001b[0m                                 Traceback (most recent call last)",
      "Cell \u001b[1;32mIn[2], line 2\u001b[0m\n\u001b[0;32m      1\u001b[0m \u001b[38;5;66;03m# Menentukan path direktori data lokal\u001b[39;00m\n\u001b[1;32m----> 2\u001b[0m data_dir \u001b[38;5;241m=\u001b[39m \u001b[43mpathlib\u001b[49m\u001b[38;5;241m.\u001b[39mPath(\u001b[38;5;124m'\u001b[39m\u001b[38;5;124msoil_types\u001b[39m\u001b[38;5;124m'\u001b[39m)\n\u001b[0;32m      4\u001b[0m batch_size \u001b[38;5;241m=\u001b[39m \u001b[38;5;241m32\u001b[39m\n\u001b[0;32m      5\u001b[0m img_height \u001b[38;5;241m=\u001b[39m \u001b[38;5;241m150\u001b[39m\n",
      "\u001b[1;31mNameError\u001b[0m: name 'pathlib' is not defined"
     ]
    }
   ],
   "source": [
    "# Menentukan path direktori data lokal\n",
    "data_dir = pathlib.Path('soil_types')\n",
    "\n",
    "batch_size = 32\n",
    "img_height = 150\n",
    "img_width = 150\n",
    "\n",
    "# Membuat dataset menggunakan image_dataset_from_directory\n",
    "train_dataset = tf.keras.utils.image_dataset_from_directory(\n",
    "    data_dir,\n",
    "    labels='inferred',\n",
    "    label_mode='int',  # Menggunakan label sebagai integer\n",
    "    seed=123,  # Seed untuk acak\n",
    "    image_size=(150, 150),\n",
    "    batch_size=32,\n",
    "    validation_split=0.2,  # 20% data akan digunakan sebagai data validasi\n",
    "    subset='training'  # Menggunakan subset pelatihan\n",
    ")\n",
    "\n",
    "validation_dataset = tf.keras.utils.image_dataset_from_directory(\n",
    "    data_dir,\n",
    "    labels='inferred',\n",
    "    label_mode='int',\n",
    "    seed=123,\n",
    "    image_size=(150, 150),\n",
    "    batch_size=32,\n",
    "    validation_split=0.2,  # 20% data akan digunakan sebagai data validasi\n",
    "    subset='validation'  # Menggunakan subset validasi\n",
    ")\n"
   ]
  },
  {
   "cell_type": "code",
   "execution_count": null,
   "id": "350a02b9-bba4-4167-8370-d3a82832b521",
   "metadata": {},
   "outputs": [],
   "source": [
    "# Periksa jumlah kelas\n",
    "class_names = train_dataset.class_names\n",
    "num_classes = len(class_indices)\n",
    "print(f\"Number of classes: {num_classes}\")\n",
    "print(f\"Class indices: {class_names}\")"
   ]
  },
  {
   "cell_type": "code",
   "execution_count": null,
   "id": "12366519-42b1-4b57-a111-c4b19fc8c880",
   "metadata": {},
   "outputs": [],
   "source": [
    "# Normalisasi dataset\n",
    "normalization_layer = tf.keras.layers.Rescaling(1./255)\n",
    "train_dataset = train_dataset.map(lambda x, y: (normalization_layer(x), y))\n",
    "validation_dataset = validation_dataset.map(lambda x, y: (normalization_layer(x), y))"
   ]
  },
  {
   "cell_type": "markdown",
   "id": "23486ac1-bce4-42f5-824d-4d651ed3649f",
   "metadata": {},
   "source": [
    "**Membangun dan Melatih Model**"
   ]
  },
  {
   "cell_type": "code",
   "execution_count": null,
   "id": "559de023-5d4e-4457-ab58-046bf26dcb7d",
   "metadata": {},
   "outputs": [],
   "source": [
    "# Membangun model\n",
    "num_classes = len(class_names)\n",
    "\n",
    "model = Sequential([\n",
    "  layers.Rescaling(1./255, input_shape=(img_height, img_width, 3)),\n",
    "  layers.Conv2D(16, 3, padding='same', activation='relu'),\n",
    "  layers.MaxPooling2D(),\n",
    "  layers.Conv2D(32, 3, padding='same', activation='relu'),\n",
    "  layers.MaxPooling2D(),\n",
    "  layers.Conv2D(64, 3, padding='same', activation='relu'),\n",
    "  layers.MaxPooling2D(),\n",
    "  layers.Flatten(),\n",
    "  layers.Dense(128, activation='relu'),\n",
    "  layers.Dense(num_classes)\n",
    "])\n",
    "\n",
    "model.compile(optimizer='adam',\n",
    "              loss=tf.keras.losses.SparseCategoricalCrossentropy(from_logits=True),\n",
    "              metrics=['accuracy'])\n",
    "\n",
    "model.summary()\n",
    "\n",
    "history = model.fit(\n",
    "    train_generator,\n",
    "    epochs=20,\n",
    "    validation_data=validation_generator\n",
    ")"
   ]
  },
  {
   "cell_type": "code",
   "execution_count": null,
   "id": "ebebf304-5a8a-4952-9e88-1120d101a6c2",
   "metadata": {},
   "outputs": [],
   "source": [
    "print(history.history.keys())"
   ]
  },
  {
   "cell_type": "code",
   "execution_count": null,
   "id": "22074a50-b777-4b92-8001-df7f79252089",
   "metadata": {},
   "outputs": [],
   "source": [
    "# Ekstrak history dari training\n",
    "acc = history.history['accuracy']\n",
    "val_acc = history.history['val_accuracy']\n",
    "loss = history.history['loss']\n",
    "val_loss = history.history['val_loss']\n",
    "\n",
    "epochs_range = range(len(acc))\n",
    "\n",
    "# Plot akurasi training dan validasi\n",
    "plt.figure(figsize=(12, 6))\n",
    "\n",
    "plt.subplot(1, 2, 1)\n",
    "plt.plot(epochs_range, acc, label='Training Accuracy')\n",
    "plt.plot(epochs_range, val_acc, label='Validation Accuracy')\n",
    "plt.legend(loc='lower right')\n",
    "plt.title('Training and Validation Accuracy')\n",
    "\n",
    "# Plot loss training dan validasi\n",
    "plt.subplot(1, 2, 2)\n",
    "plt.plot(epochs_range, loss, label='Training Loss')\n",
    "plt.plot(epochs_range, val_loss, label='Validation Loss')\n",
    "plt.legend(loc='upper right')\n",
    "plt.title('Training and Validation Loss')\n",
    "\n",
    "plt.show()"
   ]
  },
  {
   "cell_type": "markdown",
   "id": "93c566a2-100f-430c-bd20-28aed53fc94b",
   "metadata": {},
   "source": [
    "**Menyimpan Model yang Telah Dilatih**"
   ]
  },
  {
   "cell_type": "code",
   "execution_count": null,
   "id": "a35133eb-9946-4089-8123-cb34f03886e4",
   "metadata": {},
   "outputs": [],
   "source": [
    "model.save('soil_type_classifier.h5')"
   ]
  },
  {
   "cell_type": "markdown",
   "id": "0da2e146-832d-43e7-bc04-70274a9315ab",
   "metadata": {},
   "source": [
    "**Memuat Model yang Telah Disimpan dan Melakukan Prediksi pada Gambar Baru**"
   ]
  },
  {
   "cell_type": "code",
   "execution_count": null,
   "id": "2a7c1fb6-aa68-4e1c-b42a-d09f63a95525",
   "metadata": {},
   "outputs": [],
   "source": [
    "# Mendapatkan nama kelas dari generator\n",
    "class_indices = train_generator.class_names\n",
    "# Membalikkan dictionary untuk mendapatkan nama kelas dari indeks\n",
    "class_names = {v: k for k, v in class_indices.items()}\n",
    "\n",
    "def predict_image(image_path):\n",
    "    # Memuat dan memproses gambar\n",
    "    img = image.load_img(image_path, target_size=(img_height, img_width))\n",
    "    img_array = image.img_to_array(img)\n",
    "    img_array = np.expand_dims(img_array, axis=0)\n",
    "    img_array /= 255.0  # Normalisasi gambar\n",
    "\n",
    "    # Membuat prediksi\n",
    "    predictions = model.predict(img_array)\n",
    "    predicted_class_idx = np.argmax(predictions)\n",
    "    predicted_class = class_names[predicted_class_idx]\n",
    "    predicted_proba = np.max(predictions)\n",
    "\n",
    "    return predicted_class, predicted_proba\n",
    "\n",
    "# Contoh penggunaan: prediksi gambar yang dikirimkan oleh pengguna\n",
    "user_image_path = 'black_soil_ex.jpg'\n",
    "predicted_class, predicted_proba = predict_image(user_image_path)\n",
    "print(f\"Predicted class: {predicted_class}\")\n",
    "print(f\"Prediction confidence: {predicted_proba * 100:.2f}%\")"
   ]
  },
  {
   "cell_type": "code",
   "execution_count": null,
   "id": "fc3c8191-3e87-4e12-86b6-0f4054b2cba3",
   "metadata": {},
   "outputs": [],
   "source": []
  }
 ],
 "metadata": {
  "kernelspec": {
   "display_name": "Python 3 (ipykernel)",
   "language": "python",
   "name": "python3"
  },
  "language_info": {
   "codemirror_mode": {
    "name": "ipython",
    "version": 3
   },
   "file_extension": ".py",
   "mimetype": "text/x-python",
   "name": "python",
   "nbconvert_exporter": "python",
   "pygments_lexer": "ipython3",
   "version": "3.9.19"
  }
 },
 "nbformat": 4,
 "nbformat_minor": 5
}
